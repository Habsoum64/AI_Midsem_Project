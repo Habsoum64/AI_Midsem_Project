{
  "cells": [
    {
      "cell_type": "code",
      "execution_count": 2,
      "metadata": {
        "colab": {
          "base_uri": "https://localhost:8080/"
        },
        "id": "Zj5Mv-l34XhV",
        "outputId": "ab45ce5c-0fb2-49d6-fe25-edb7970f4a81"
      },
      "outputs": [
        {
          "output_type": "stream",
          "name": "stdout",
          "text": [
            "Mounted at /content/drive\n"
          ]
        }
      ],
      "source": [
        "import numpy as np\n",
        "import pandas as pd\n",
        "\n",
        "from google.colab import drive\n",
        "drive.mount('/content/drive')\n"
      ]
    },
    {
      "cell_type": "code",
      "execution_count": 32,
      "metadata": {
        "id": "OhSnQUA36BwS"
      },
      "outputs": [],
      "source": [
        "df = pd.read_csv('/content/drive/My Drive/Intro to AI/Midsem Project/players_21.csv')"
      ]
    },
    {
      "cell_type": "markdown",
      "metadata": {
        "id": "5z-9KvEOqnA6"
      },
      "source": [
        "# ***1. Data processing & feature extracting***"
      ]
    },
    {
      "cell_type": "markdown",
      "metadata": {
        "id": "dTZmzIC9rOH-"
      },
      "source": [
        "Before training the models, we cleanned the data in order to make it usable for the training processes. This process involved picking the parts of the dataset that would be most relevant to our purpose.\n",
        "\n"
      ]
    },
    {
      "cell_type": "markdown",
      "metadata": {
        "id": "jhzRzpOZuFHp"
      },
      "source": [
        "***Dropping columns with too many null values***\n",
        "\n",
        "> We deleted the columns with a high number of null values, because keeping them would create inconsistency in the dataset, which would reduce the accuracy of the predictions.\n",
        "\n",
        ">Our threshold was 30% null values, which we belive is adequate for a dataset of this size.\n"
      ]
    },
    {
      "cell_type": "code",
      "execution_count": 33,
      "metadata": {
        "colab": {
          "base_uri": "https://localhost:8080/"
        },
        "id": "OaSTz3oISAPO",
        "outputId": "5f4eaa0b-4eb6-435c-e9a0-c6adc016cee0"
      },
      "outputs": [
        {
          "output_type": "stream",
          "name": "stdout",
          "text": [
            "Null values in 'club_loaned_from' column : 96.00%\n",
            "Null values in 'nation_team_id' column : 94.05%\n",
            "Null values in 'nation_position' column : 94.05%\n",
            "Null values in 'nation_jersey_number' column : 94.05%\n",
            "Null values in 'player_tags' column : 92.57%\n",
            "Null values in 'player_traits' column : 56.11%\n",
            "Null values in 'goalkeeping_speed' column : 89.00%\n",
            "Null values in 'nation_logo_url' column : 94.05%\n"
          ]
        }
      ],
      "source": [
        "# Listing the columns with a high number of null values (over 30%)\n",
        "column_names = list(df.columns.values)\n",
        "nulls = []\n",
        "\n",
        "for c in column_names:\n",
        "  percentage_null = (df[c].isnull().sum() / len(df[c])) * 100\n",
        "\n",
        "  if percentage_null >= 30.0:\n",
        "    nulls.append(c)\n",
        "    print(f\"Null values in '{c}' column : {percentage_null:.2f}%\")\n"
      ]
    },
    {
      "cell_type": "code",
      "execution_count": 34,
      "metadata": {
        "id": "C-SEFLWHTyiG"
      },
      "outputs": [],
      "source": [
        "# Dropping the columns with a lot of null values\n",
        "data = df.drop(nulls, axis=1)\n"
      ]
    },
    {
      "cell_type": "markdown",
      "metadata": {
        "id": "oopF3zFKvb7M"
      },
      "source": [
        "***Processing the data***\n",
        ">We make sure that all the data is numbers by encoding all data elements that are not, to make all the data usable by the models\n",
        "\n",
        ">We used the factorize() method of the pandas library to do that."
      ]
    },
    {
      "cell_type": "code",
      "execution_count": 35,
      "metadata": {
        "id": "l-VFRkW9UeB6"
      },
      "outputs": [],
      "source": [
        "# Imputing & transforming the data\n",
        "\n",
        "# ** Isolating numerical & categorical data\n",
        "numerical = data.select_dtypes(exclude=['object'])\n",
        "categorical = data.select_dtypes(include=['object'])\n",
        "\n",
        "# ** Factorizing categorical values (turning them into numbers)\n",
        "cat_columns = list(categorical.columns.values)\n",
        "for col in cat_columns:\n",
        "  categorical[col], b = pd.factorize(categorical[col])\n",
        "\n",
        "# ** Filling blanks in the numerical columns (imputing)\n",
        "numerical.fillna(numerical.mean(), inplace =True)\n"
      ]
    },
    {
      "cell_type": "code",
      "execution_count": 36,
      "metadata": {
        "colab": {
          "base_uri": "https://localhost:8080/"
        },
        "id": "ddg-CXZkpyJ4",
        "outputId": "52adaafd-446a-46ce-d6f0-d205786bf693"
      },
      "outputs": [
        {
          "output_type": "stream",
          "name": "stdout",
          "text": [
            "<class 'pandas.core.frame.DataFrame'>\n",
            "RangeIndex: 18944 entries, 0 to 18943\n",
            "Data columns (total 57 columns):\n",
            " #   Column                       Non-Null Count  Dtype  \n",
            "---  ------                       --------------  -----  \n",
            " 0   sofifa_id                    18944 non-null  int64  \n",
            " 1   overall                      18944 non-null  int64  \n",
            " 2   potential                    18944 non-null  int64  \n",
            " 3   value_eur                    18944 non-null  float64\n",
            " 4   wage_eur                     18944 non-null  float64\n",
            " 5   age                          18944 non-null  int64  \n",
            " 6   height_cm                    18944 non-null  int64  \n",
            " 7   weight_kg                    18944 non-null  int64  \n",
            " 8   club_team_id                 18944 non-null  float64\n",
            " 9   league_level                 18944 non-null  float64\n",
            " 10  club_jersey_number           18944 non-null  float64\n",
            " 11  club_contract_valid_until    18944 non-null  float64\n",
            " 12  nationality_id               18944 non-null  int64  \n",
            " 13  weak_foot                    18944 non-null  int64  \n",
            " 14  skill_moves                  18944 non-null  int64  \n",
            " 15  international_reputation     18944 non-null  int64  \n",
            " 16  release_clause_eur           18944 non-null  float64\n",
            " 17  pace                         18944 non-null  float64\n",
            " 18  shooting                     18944 non-null  float64\n",
            " 19  passing                      18944 non-null  float64\n",
            " 20  dribbling                    18944 non-null  float64\n",
            " 21  defending                    18944 non-null  float64\n",
            " 22  physic                       18944 non-null  float64\n",
            " 23  attacking_crossing           18944 non-null  int64  \n",
            " 24  attacking_finishing          18944 non-null  int64  \n",
            " 25  attacking_heading_accuracy   18944 non-null  int64  \n",
            " 26  attacking_short_passing      18944 non-null  int64  \n",
            " 27  attacking_volleys            18944 non-null  int64  \n",
            " 28  skill_dribbling              18944 non-null  int64  \n",
            " 29  skill_curve                  18944 non-null  int64  \n",
            " 30  skill_fk_accuracy            18944 non-null  int64  \n",
            " 31  skill_long_passing           18944 non-null  int64  \n",
            " 32  skill_ball_control           18944 non-null  int64  \n",
            " 33  movement_acceleration        18944 non-null  int64  \n",
            " 34  movement_sprint_speed        18944 non-null  int64  \n",
            " 35  movement_agility             18944 non-null  int64  \n",
            " 36  movement_reactions           18944 non-null  int64  \n",
            " 37  movement_balance             18944 non-null  int64  \n",
            " 38  power_shot_power             18944 non-null  int64  \n",
            " 39  power_jumping                18944 non-null  int64  \n",
            " 40  power_stamina                18944 non-null  int64  \n",
            " 41  power_strength               18944 non-null  int64  \n",
            " 42  power_long_shots             18944 non-null  int64  \n",
            " 43  mentality_aggression         18944 non-null  int64  \n",
            " 44  mentality_interceptions      18944 non-null  int64  \n",
            " 45  mentality_positioning        18944 non-null  int64  \n",
            " 46  mentality_vision             18944 non-null  int64  \n",
            " 47  mentality_penalties          18944 non-null  int64  \n",
            " 48  mentality_composure          18944 non-null  int64  \n",
            " 49  defending_marking_awareness  18944 non-null  int64  \n",
            " 50  defending_standing_tackle    18944 non-null  int64  \n",
            " 51  defending_sliding_tackle     18944 non-null  int64  \n",
            " 52  goalkeeping_diving           18944 non-null  int64  \n",
            " 53  goalkeeping_handling         18944 non-null  int64  \n",
            " 54  goalkeeping_kicking          18944 non-null  int64  \n",
            " 55  goalkeeping_positioning      18944 non-null  int64  \n",
            " 56  goalkeeping_reflexes         18944 non-null  int64  \n",
            "dtypes: float64(13), int64(44)\n",
            "memory usage: 8.2 MB\n"
          ]
        }
      ],
      "source": [
        "numerical.info()"
      ]
    },
    {
      "cell_type": "code",
      "execution_count": 37,
      "metadata": {
        "colab": {
          "base_uri": "https://localhost:8080/"
        },
        "id": "8LPIAp8u4Gvf",
        "outputId": "ab2d5ba8-846c-4e25-89de-c241ae8d4538"
      },
      "outputs": [
        {
          "output_type": "stream",
          "name": "stdout",
          "text": [
            "<class 'pandas.core.frame.DataFrame'>\n",
            "RangeIndex: 18944 entries, 0 to 18943\n",
            "Data columns (total 45 columns):\n",
            " #   Column            Non-Null Count  Dtype\n",
            "---  ------            --------------  -----\n",
            " 0   player_url        18944 non-null  int64\n",
            " 1   short_name        18944 non-null  int64\n",
            " 2   long_name         18944 non-null  int64\n",
            " 3   player_positions  18944 non-null  int64\n",
            " 4   dob               18944 non-null  int64\n",
            " 5   club_name         18944 non-null  int64\n",
            " 6   league_name       18944 non-null  int64\n",
            " 7   club_position     18944 non-null  int64\n",
            " 8   club_joined       18944 non-null  int64\n",
            " 9   nationality_name  18944 non-null  int64\n",
            " 10  preferred_foot    18944 non-null  int64\n",
            " 11  work_rate         18944 non-null  int64\n",
            " 12  body_type         18944 non-null  int64\n",
            " 13  real_face         18944 non-null  int64\n",
            " 14  ls                18944 non-null  int64\n",
            " 15  st                18944 non-null  int64\n",
            " 16  rs                18944 non-null  int64\n",
            " 17  lw                18944 non-null  int64\n",
            " 18  lf                18944 non-null  int64\n",
            " 19  cf                18944 non-null  int64\n",
            " 20  rf                18944 non-null  int64\n",
            " 21  rw                18944 non-null  int64\n",
            " 22  lam               18944 non-null  int64\n",
            " 23  cam               18944 non-null  int64\n",
            " 24  ram               18944 non-null  int64\n",
            " 25  lm                18944 non-null  int64\n",
            " 26  lcm               18944 non-null  int64\n",
            " 27  cm                18944 non-null  int64\n",
            " 28  rcm               18944 non-null  int64\n",
            " 29  rm                18944 non-null  int64\n",
            " 30  lwb               18944 non-null  int64\n",
            " 31  ldm               18944 non-null  int64\n",
            " 32  cdm               18944 non-null  int64\n",
            " 33  rdm               18944 non-null  int64\n",
            " 34  rwb               18944 non-null  int64\n",
            " 35  lb                18944 non-null  int64\n",
            " 36  lcb               18944 non-null  int64\n",
            " 37  cb                18944 non-null  int64\n",
            " 38  rcb               18944 non-null  int64\n",
            " 39  rb                18944 non-null  int64\n",
            " 40  gk                18944 non-null  int64\n",
            " 41  player_face_url   18944 non-null  int64\n",
            " 42  club_logo_url     18944 non-null  int64\n",
            " 43  club_flag_url     18944 non-null  int64\n",
            " 44  nation_flag_url   18944 non-null  int64\n",
            "dtypes: int64(45)\n",
            "memory usage: 6.5 MB\n"
          ]
        }
      ],
      "source": [
        "categorical.info()"
      ]
    },
    {
      "cell_type": "code",
      "execution_count": 38,
      "metadata": {
        "id": "HvloA6f4XnfI"
      },
      "outputs": [],
      "source": [
        "# Putting the new dataset together\n",
        "categorical = categorical.reset_index(drop=True)\n",
        "numerical = numerical.reset_index(drop=True)\n",
        "\n",
        "data = pd.concat([categorical, numerical], axis=1)\n"
      ]
    },
    {
      "cell_type": "code",
      "execution_count": 39,
      "metadata": {
        "id": "iWmbC4le65wy"
      },
      "outputs": [],
      "source": [
        "# Picking the appropriate attributes for the model (1/2)\n",
        "X = data.drop('overall', axis=1)\n",
        "y = data['overall']\n",
        "\n",
        "X.drop([\n",
        "        'dob', 'short_name', 'long_name', 'club_name', 'club_joined', 'player_url',\n",
        "        'player_face_url', 'club_logo_url','wage_eur', 'sofifa_id', 'international_reputation'\n",
        "       ],\n",
        "       axis=1, inplace = True)\n"
      ]
    },
    {
      "cell_type": "code",
      "execution_count": 40,
      "metadata": {
        "id": "IIcklQ2nBB67"
      },
      "outputs": [],
      "source": [
        "# Importing the models\n",
        "from xgboost import XGBRegressor\n",
        "from sklearn.linear_model import LinearRegression\n",
        "from sklearn.kernel_ridge import KernelRidge\n",
        "from sklearn.ensemble import BaggingRegressor\n",
        "from sklearn.ensemble import RandomForestRegressor\n",
        "from sklearn.ensemble import GradientBoostingRegressor\n"
      ]
    },
    {
      "cell_type": "code",
      "execution_count": 41,
      "metadata": {
        "colab": {
          "base_uri": "https://localhost:8080/",
          "height": 117
        },
        "id": "GTUBkICfnvyb",
        "outputId": "f5106d65-770f-49fa-846e-3cb59d3a1c0a"
      },
      "outputs": [
        {
          "output_type": "execute_result",
          "data": {
            "text/plain": [
              "BaggingRegressor(estimator=LinearRegression(), n_estimators=100, n_jobs=-1)"
            ],
            "text/html": [
              "<style>#sk-container-id-3 {color: black;background-color: white;}#sk-container-id-3 pre{padding: 0;}#sk-container-id-3 div.sk-toggleable {background-color: white;}#sk-container-id-3 label.sk-toggleable__label {cursor: pointer;display: block;width: 100%;margin-bottom: 0;padding: 0.3em;box-sizing: border-box;text-align: center;}#sk-container-id-3 label.sk-toggleable__label-arrow:before {content: \"▸\";float: left;margin-right: 0.25em;color: #696969;}#sk-container-id-3 label.sk-toggleable__label-arrow:hover:before {color: black;}#sk-container-id-3 div.sk-estimator:hover label.sk-toggleable__label-arrow:before {color: black;}#sk-container-id-3 div.sk-toggleable__content {max-height: 0;max-width: 0;overflow: hidden;text-align: left;background-color: #f0f8ff;}#sk-container-id-3 div.sk-toggleable__content pre {margin: 0.2em;color: black;border-radius: 0.25em;background-color: #f0f8ff;}#sk-container-id-3 input.sk-toggleable__control:checked~div.sk-toggleable__content {max-height: 200px;max-width: 100%;overflow: auto;}#sk-container-id-3 input.sk-toggleable__control:checked~label.sk-toggleable__label-arrow:before {content: \"▾\";}#sk-container-id-3 div.sk-estimator input.sk-toggleable__control:checked~label.sk-toggleable__label {background-color: #d4ebff;}#sk-container-id-3 div.sk-label input.sk-toggleable__control:checked~label.sk-toggleable__label {background-color: #d4ebff;}#sk-container-id-3 input.sk-hidden--visually {border: 0;clip: rect(1px 1px 1px 1px);clip: rect(1px, 1px, 1px, 1px);height: 1px;margin: -1px;overflow: hidden;padding: 0;position: absolute;width: 1px;}#sk-container-id-3 div.sk-estimator {font-family: monospace;background-color: #f0f8ff;border: 1px dotted black;border-radius: 0.25em;box-sizing: border-box;margin-bottom: 0.5em;}#sk-container-id-3 div.sk-estimator:hover {background-color: #d4ebff;}#sk-container-id-3 div.sk-parallel-item::after {content: \"\";width: 100%;border-bottom: 1px solid gray;flex-grow: 1;}#sk-container-id-3 div.sk-label:hover label.sk-toggleable__label {background-color: #d4ebff;}#sk-container-id-3 div.sk-serial::before {content: \"\";position: absolute;border-left: 1px solid gray;box-sizing: border-box;top: 0;bottom: 0;left: 50%;z-index: 0;}#sk-container-id-3 div.sk-serial {display: flex;flex-direction: column;align-items: center;background-color: white;padding-right: 0.2em;padding-left: 0.2em;position: relative;}#sk-container-id-3 div.sk-item {position: relative;z-index: 1;}#sk-container-id-3 div.sk-parallel {display: flex;align-items: stretch;justify-content: center;background-color: white;position: relative;}#sk-container-id-3 div.sk-item::before, #sk-container-id-3 div.sk-parallel-item::before {content: \"\";position: absolute;border-left: 1px solid gray;box-sizing: border-box;top: 0;bottom: 0;left: 50%;z-index: -1;}#sk-container-id-3 div.sk-parallel-item {display: flex;flex-direction: column;z-index: 1;position: relative;background-color: white;}#sk-container-id-3 div.sk-parallel-item:first-child::after {align-self: flex-end;width: 50%;}#sk-container-id-3 div.sk-parallel-item:last-child::after {align-self: flex-start;width: 50%;}#sk-container-id-3 div.sk-parallel-item:only-child::after {width: 0;}#sk-container-id-3 div.sk-dashed-wrapped {border: 1px dashed gray;margin: 0 0.4em 0.5em 0.4em;box-sizing: border-box;padding-bottom: 0.4em;background-color: white;}#sk-container-id-3 div.sk-label label {font-family: monospace;font-weight: bold;display: inline-block;line-height: 1.2em;}#sk-container-id-3 div.sk-label-container {text-align: center;}#sk-container-id-3 div.sk-container {/* jupyter's `normalize.less` sets `[hidden] { display: none; }` but bootstrap.min.css set `[hidden] { display: none !important; }` so we also need the `!important` here to be able to override the default hidden behavior on the sphinx rendered scikit-learn.org. See: https://github.com/scikit-learn/scikit-learn/issues/21755 */display: inline-block !important;position: relative;}#sk-container-id-3 div.sk-text-repr-fallback {display: none;}</style><div id=\"sk-container-id-3\" class=\"sk-top-container\"><div class=\"sk-text-repr-fallback\"><pre>BaggingRegressor(estimator=LinearRegression(), n_estimators=100, n_jobs=-1)</pre><b>In a Jupyter environment, please rerun this cell to show the HTML representation or trust the notebook. <br />On GitHub, the HTML representation is unable to render, please try loading this page with nbviewer.org.</b></div><div class=\"sk-container\" hidden><div class=\"sk-item sk-dashed-wrapped\"><div class=\"sk-label-container\"><div class=\"sk-label sk-toggleable\"><input class=\"sk-toggleable__control sk-hidden--visually\" id=\"sk-estimator-id-7\" type=\"checkbox\" ><label for=\"sk-estimator-id-7\" class=\"sk-toggleable__label sk-toggleable__label-arrow\">BaggingRegressor</label><div class=\"sk-toggleable__content\"><pre>BaggingRegressor(estimator=LinearRegression(), n_estimators=100, n_jobs=-1)</pre></div></div></div><div class=\"sk-parallel\"><div class=\"sk-parallel-item\"><div class=\"sk-item\"><div class=\"sk-label-container\"><div class=\"sk-label sk-toggleable\"><input class=\"sk-toggleable__control sk-hidden--visually\" id=\"sk-estimator-id-8\" type=\"checkbox\" ><label for=\"sk-estimator-id-8\" class=\"sk-toggleable__label sk-toggleable__label-arrow\">estimator: LinearRegression</label><div class=\"sk-toggleable__content\"><pre>LinearRegression()</pre></div></div></div><div class=\"sk-serial\"><div class=\"sk-item\"><div class=\"sk-estimator sk-toggleable\"><input class=\"sk-toggleable__control sk-hidden--visually\" id=\"sk-estimator-id-9\" type=\"checkbox\" ><label for=\"sk-estimator-id-9\" class=\"sk-toggleable__label sk-toggleable__label-arrow\">LinearRegression</label><div class=\"sk-toggleable__content\"><pre>LinearRegression()</pre></div></div></div></div></div></div></div></div></div></div>"
            ]
          },
          "metadata": {},
          "execution_count": 41
        }
      ],
      "source": [
        "# Fitting the models\n",
        "lin_reg = LinearRegression()\n",
        "lin_reg.fit(X, y)\n",
        "\n",
        "rf_reg = RandomForestRegressor(n_estimators=100, random_state=42, n_jobs=-1)\n",
        "rf_reg.fit(X, y)\n",
        "\n",
        "#kmn_reg = KernelRidge(kernel='rbf')\n",
        "#kmn_reg.fit(X, y)\n",
        "\n",
        "xgb_reg = XGBRegressor(n_estimators=100, n_jobs=-1)\n",
        "xgb_reg.fit(X, y)\n",
        "\n",
        "gb_reg = GradientBoostingRegressor(n_estimators=100)\n",
        "gb_reg.fit(X, y)\n",
        "\n",
        "bagging_reg = BaggingRegressor(estimator=LinearRegression(), n_estimators=100, n_jobs=-1)\n",
        "bagging_reg.fit(X, y)\n"
      ]
    },
    {
      "cell_type": "code",
      "execution_count": 42,
      "metadata": {
        "colab": {
          "base_uri": "https://localhost:8080/"
        },
        "id": "voKSKyoU3Z1G",
        "outputId": "486120dc-1a64-4572-be01-b6065c0e41d3"
      },
      "outputs": [
        {
          "output_type": "stream",
          "name": "stdout",
          "text": [
            "value_eur\n",
            "release_clause_eur\n",
            "age\n",
            "potential\n",
            "movement_reactions\n",
            "gk\n",
            "defending\n",
            "club_flag_url\n",
            "mentality_interceptions\n",
            "league_name\n",
            "goalkeeping_positioning\n",
            "lam\n",
            "attacking_crossing\n",
            "goalkeeping_reflexes\n",
            "goalkeeping_diving\n"
          ]
        }
      ],
      "source": [
        "# Feature importance for RFRegressor\n",
        "feature_importances = rf_reg.feature_importances_\n",
        "sorted_feature_importances = np.argsort(feature_importances)[::-1]\n",
        "\n",
        "# Print the most important features\n",
        "for i in sorted_feature_importances[:15]:\n",
        "  print(X.columns[i])\n"
      ]
    },
    {
      "cell_type": "code",
      "execution_count": 43,
      "metadata": {
        "colab": {
          "base_uri": "https://localhost:8080/"
        },
        "id": "L8ZxTMnX3Yym",
        "outputId": "646f11f0-65dc-4c10-851c-d90cad847e78"
      },
      "outputs": [
        {
          "output_type": "stream",
          "name": "stdout",
          "text": [
            "value_eur\n",
            "movement_reactions\n",
            "release_clause_eur\n",
            "age\n",
            "potential\n",
            "attacking_crossing\n",
            "defending\n",
            "physic\n",
            "goalkeeping_positioning\n",
            "passing\n",
            "defending_sliding_tackle\n",
            "club_flag_url\n",
            "goalkeeping_handling\n",
            "rwb\n",
            "lm\n"
          ]
        }
      ],
      "source": [
        "# Feature importance for GBRegressor\n",
        "\n",
        "feature_importances = gb_reg.feature_importances_\n",
        "gb_reg.feature_importances_\n",
        "sorted_feature_importances = np.argsort(feature_importances)[::-1]\n",
        "\n",
        "# Print the most important features\n",
        "for i in sorted_feature_importances[:15]:\n",
        "  print(X.columns[i])\n"
      ]
    },
    {
      "cell_type": "code",
      "execution_count": 44,
      "metadata": {
        "colab": {
          "base_uri": "https://localhost:8080/"
        },
        "id": "GQQV7li3blM5",
        "outputId": "d450356b-bcec-4945-faf0-a7592e811c30"
      },
      "outputs": [
        {
          "output_type": "stream",
          "name": "stdout",
          "text": [
            "value_eur\n",
            "release_clause_eur\n",
            "movement_reactions\n",
            "age\n",
            "potential\n",
            "defending\n",
            "physic\n",
            "attacking_crossing\n",
            "lm\n",
            "lb\n",
            "lam\n",
            "goalkeeping_positioning\n",
            "ldm\n",
            "passing\n",
            "goalkeeping_reflexes\n"
          ]
        }
      ],
      "source": [
        "# Feature importance for XGBRegressor\n",
        "feature_importances = xgb_reg.feature_importances_\n",
        "sorted_feature_importances = np.argsort(feature_importances)[::-1]\n",
        "\n",
        "# Print the most important features\n",
        "for i in sorted_feature_importances[:15]:\n",
        "  print(X.columns[i])\n"
      ]
    },
    {
      "cell_type": "code",
      "execution_count": 45,
      "metadata": {
        "colab": {
          "base_uri": "https://localhost:8080/"
        },
        "id": "SaaZE-Ov28mF",
        "outputId": "795c2cc1-be46-48e5-9bcf-2cd5ad03bc99"
      },
      "outputs": [
        {
          "output_type": "execute_result",
          "data": {
            "text/plain": [
              "['potential',\n",
              " 'value_eur',\n",
              " 'release_clause_eur',\n",
              " 'passing',\n",
              " 'dribbling',\n",
              " 'attacking_short_passing',\n",
              " 'movement_reactions',\n",
              " 'power_shot_power',\n",
              " 'mentality_vision',\n",
              " 'mentality_composure']"
            ]
          },
          "metadata": {},
          "execution_count": 45
        }
      ],
      "source": [
        "# *** Identifying columns with high a correlation to the overall rating\n",
        "corr_matrix = X.corrwith(y)\n",
        "corr_matrix.sort_values(ascending=False)\n",
        "\n",
        "low_corr = corr_matrix[abs(corr_matrix)<0.5].index.tolist()\n",
        "high_corr = []\n",
        "for c in X.columns.values:\n",
        "  if c not in low_corr:\n",
        "    high_corr.append(c)\n",
        "\n",
        "high_corr\n"
      ]
    },
    {
      "cell_type": "code",
      "execution_count": 46,
      "metadata": {
        "id": "g8-vi8m-4aro"
      },
      "outputs": [],
      "source": [
        "# Final selection of features for the prediction\n",
        "pred_columns = [\n",
        "                'potential', 'passing', 'dribbling', 'defending', 'physic',\n",
        "                'movement_reactions', 'power_shot_power', 'mentality_composure',\n",
        "                'value_eur', 'release_clause_eur'\n",
        "                ]\n",
        "X = data[pred_columns]\n"
      ]
    },
    {
      "cell_type": "code",
      "execution_count": 47,
      "metadata": {
        "id": "G-wSjbIS8RCH"
      },
      "outputs": [],
      "source": [
        "# Scaling the data\n",
        "from sklearn.preprocessing import StandardScaler\n",
        "\n",
        "scaler = StandardScaler()\n",
        "X = scaler.fit_transform(X)\n"
      ]
    },
    {
      "cell_type": "code",
      "execution_count": 48,
      "metadata": {
        "colab": {
          "base_uri": "https://localhost:8080/",
          "height": 117
        },
        "id": "RGshGBm-8LA6",
        "outputId": "eba8a044-ebce-4c5d-b42f-4b898e60029b"
      },
      "outputs": [
        {
          "output_type": "execute_result",
          "data": {
            "text/plain": [
              "BaggingRegressor(estimator=LinearRegression(), n_estimators=100, n_jobs=-1)"
            ],
            "text/html": [
              "<style>#sk-container-id-4 {color: black;background-color: white;}#sk-container-id-4 pre{padding: 0;}#sk-container-id-4 div.sk-toggleable {background-color: white;}#sk-container-id-4 label.sk-toggleable__label {cursor: pointer;display: block;width: 100%;margin-bottom: 0;padding: 0.3em;box-sizing: border-box;text-align: center;}#sk-container-id-4 label.sk-toggleable__label-arrow:before {content: \"▸\";float: left;margin-right: 0.25em;color: #696969;}#sk-container-id-4 label.sk-toggleable__label-arrow:hover:before {color: black;}#sk-container-id-4 div.sk-estimator:hover label.sk-toggleable__label-arrow:before {color: black;}#sk-container-id-4 div.sk-toggleable__content {max-height: 0;max-width: 0;overflow: hidden;text-align: left;background-color: #f0f8ff;}#sk-container-id-4 div.sk-toggleable__content pre {margin: 0.2em;color: black;border-radius: 0.25em;background-color: #f0f8ff;}#sk-container-id-4 input.sk-toggleable__control:checked~div.sk-toggleable__content {max-height: 200px;max-width: 100%;overflow: auto;}#sk-container-id-4 input.sk-toggleable__control:checked~label.sk-toggleable__label-arrow:before {content: \"▾\";}#sk-container-id-4 div.sk-estimator input.sk-toggleable__control:checked~label.sk-toggleable__label {background-color: #d4ebff;}#sk-container-id-4 div.sk-label input.sk-toggleable__control:checked~label.sk-toggleable__label {background-color: #d4ebff;}#sk-container-id-4 input.sk-hidden--visually {border: 0;clip: rect(1px 1px 1px 1px);clip: rect(1px, 1px, 1px, 1px);height: 1px;margin: -1px;overflow: hidden;padding: 0;position: absolute;width: 1px;}#sk-container-id-4 div.sk-estimator {font-family: monospace;background-color: #f0f8ff;border: 1px dotted black;border-radius: 0.25em;box-sizing: border-box;margin-bottom: 0.5em;}#sk-container-id-4 div.sk-estimator:hover {background-color: #d4ebff;}#sk-container-id-4 div.sk-parallel-item::after {content: \"\";width: 100%;border-bottom: 1px solid gray;flex-grow: 1;}#sk-container-id-4 div.sk-label:hover label.sk-toggleable__label {background-color: #d4ebff;}#sk-container-id-4 div.sk-serial::before {content: \"\";position: absolute;border-left: 1px solid gray;box-sizing: border-box;top: 0;bottom: 0;left: 50%;z-index: 0;}#sk-container-id-4 div.sk-serial {display: flex;flex-direction: column;align-items: center;background-color: white;padding-right: 0.2em;padding-left: 0.2em;position: relative;}#sk-container-id-4 div.sk-item {position: relative;z-index: 1;}#sk-container-id-4 div.sk-parallel {display: flex;align-items: stretch;justify-content: center;background-color: white;position: relative;}#sk-container-id-4 div.sk-item::before, #sk-container-id-4 div.sk-parallel-item::before {content: \"\";position: absolute;border-left: 1px solid gray;box-sizing: border-box;top: 0;bottom: 0;left: 50%;z-index: -1;}#sk-container-id-4 div.sk-parallel-item {display: flex;flex-direction: column;z-index: 1;position: relative;background-color: white;}#sk-container-id-4 div.sk-parallel-item:first-child::after {align-self: flex-end;width: 50%;}#sk-container-id-4 div.sk-parallel-item:last-child::after {align-self: flex-start;width: 50%;}#sk-container-id-4 div.sk-parallel-item:only-child::after {width: 0;}#sk-container-id-4 div.sk-dashed-wrapped {border: 1px dashed gray;margin: 0 0.4em 0.5em 0.4em;box-sizing: border-box;padding-bottom: 0.4em;background-color: white;}#sk-container-id-4 div.sk-label label {font-family: monospace;font-weight: bold;display: inline-block;line-height: 1.2em;}#sk-container-id-4 div.sk-label-container {text-align: center;}#sk-container-id-4 div.sk-container {/* jupyter's `normalize.less` sets `[hidden] { display: none; }` but bootstrap.min.css set `[hidden] { display: none !important; }` so we also need the `!important` here to be able to override the default hidden behavior on the sphinx rendered scikit-learn.org. See: https://github.com/scikit-learn/scikit-learn/issues/21755 */display: inline-block !important;position: relative;}#sk-container-id-4 div.sk-text-repr-fallback {display: none;}</style><div id=\"sk-container-id-4\" class=\"sk-top-container\"><div class=\"sk-text-repr-fallback\"><pre>BaggingRegressor(estimator=LinearRegression(), n_estimators=100, n_jobs=-1)</pre><b>In a Jupyter environment, please rerun this cell to show the HTML representation or trust the notebook. <br />On GitHub, the HTML representation is unable to render, please try loading this page with nbviewer.org.</b></div><div class=\"sk-container\" hidden><div class=\"sk-item sk-dashed-wrapped\"><div class=\"sk-label-container\"><div class=\"sk-label sk-toggleable\"><input class=\"sk-toggleable__control sk-hidden--visually\" id=\"sk-estimator-id-10\" type=\"checkbox\" ><label for=\"sk-estimator-id-10\" class=\"sk-toggleable__label sk-toggleable__label-arrow\">BaggingRegressor</label><div class=\"sk-toggleable__content\"><pre>BaggingRegressor(estimator=LinearRegression(), n_estimators=100, n_jobs=-1)</pre></div></div></div><div class=\"sk-parallel\"><div class=\"sk-parallel-item\"><div class=\"sk-item\"><div class=\"sk-label-container\"><div class=\"sk-label sk-toggleable\"><input class=\"sk-toggleable__control sk-hidden--visually\" id=\"sk-estimator-id-11\" type=\"checkbox\" ><label for=\"sk-estimator-id-11\" class=\"sk-toggleable__label sk-toggleable__label-arrow\">estimator: LinearRegression</label><div class=\"sk-toggleable__content\"><pre>LinearRegression()</pre></div></div></div><div class=\"sk-serial\"><div class=\"sk-item\"><div class=\"sk-estimator sk-toggleable\"><input class=\"sk-toggleable__control sk-hidden--visually\" id=\"sk-estimator-id-12\" type=\"checkbox\" ><label for=\"sk-estimator-id-12\" class=\"sk-toggleable__label sk-toggleable__label-arrow\">LinearRegression</label><div class=\"sk-toggleable__content\"><pre>LinearRegression()</pre></div></div></div></div></div></div></div></div></div></div>"
            ]
          },
          "metadata": {},
          "execution_count": 48
        }
      ],
      "source": [
        "# Re-Fitting the models\n",
        "lin_reg = LinearRegression()\n",
        "lin_reg.fit(X, y)\n",
        "\n",
        "rf_reg = RandomForestRegressor(n_estimators=100, random_state=42, n_jobs=-1)\n",
        "rf_reg.fit(X, y)\n",
        "\n",
        "#kmn_reg = KernelRidge(kernel='rbf')\n",
        "#kmn_reg.fit(X, y)\n",
        "\n",
        "xgb_reg = XGBRegressor(n_estimators=100, n_jobs=-1)\n",
        "xgb_reg.fit(X, y)\n",
        "\n",
        "gb_reg = GradientBoostingRegressor(n_estimators=100)\n",
        "gb_reg.fit(X, y)\n",
        "\n",
        "bagging_reg = BaggingRegressor(estimator=LinearRegression(), n_estimators=100, n_jobs=-1)\n",
        "bagging_reg.fit(X, y)\n"
      ]
    },
    {
      "cell_type": "code",
      "execution_count": 49,
      "metadata": {
        "id": "nFYOH9bGpJ_6"
      },
      "outputs": [],
      "source": [
        "# Importing metrics for evaluation\n",
        "from sklearn.metrics import mean_absolute_error, mean_squared_error, r2_score\n"
      ]
    },
    {
      "cell_type": "code",
      "execution_count": 50,
      "metadata": {
        "colab": {
          "base_uri": "https://localhost:8080/"
        },
        "id": "Cv5GbeLN9cFr",
        "outputId": "cc44b903-247a-473d-b4d7-f863a5876cb7"
      },
      "outputs": [
        {
          "output_type": "stream",
          "name": "stdout",
          "text": [
            "Accuracy Scores for each model: \n",
            "\n",
            "LinearRegression:\n",
            "Mean Absolute error: 2.0003627965881443\n",
            "Mean squared error: 6.571062047909092\n",
            "R-squared Test: 0.8452347268824237\n",
            "\n",
            "RandomForestRegressor:\n",
            "Mean Absolute error: 0.20473975929054064\n",
            "Mean squared error: 0.1258211307010135\n",
            "RandomForestRegressor: 0.9973926095036525\n",
            "\n",
            "XGBRegressor:\n",
            "Mean Absolute error: 0.4853069123786849\n",
            "Mean squared error: 0.4479333432709801\n",
            "R-squared Test: 0.9907549165969389\n",
            "\n",
            "GradientBoostingRegressor:\n",
            "Mean Absolute error: 1.026409224098909\n",
            "Mean squared error: 1.9134036869632396\n",
            "R-squared Test: 0.9584548567430238\n",
            "\n",
            "BaggingRegressor:\n",
            "Mean Absolute error: 2.0003939149725025\n",
            "Mean squared error: 6.571080827932227\n",
            "R-squared Test: 0.8452383451594596\n",
            "\n"
          ]
        }
      ],
      "source": [
        "# Importing metrics for evaluation\n",
        "from sklearn.metrics import mean_absolute_error, mean_squared_error, r2_score\n",
        "\n",
        "# Evaluating the accuracy of each model\n",
        "print(\"Accuracy Scores for each model: \\n\")\n",
        "\n",
        "y_pred = lin_reg.predict(X)\n",
        "print(lin_reg.__class__.__name__ + \":\")\n",
        "print(\"Mean Absolute error: \" + str(mean_absolute_error(y_pred, y)))\n",
        "print(\"Mean squared error: \" + str(mean_squared_error(y_pred, y)))\n",
        "print(\"R-squared Test: \" + str(r2_score(y_pred, y)) + '\\n')\n",
        "\n",
        "y_pred = rf_reg.predict(X)\n",
        "print(rf_reg.__class__.__name__ + \":\")\n",
        "print(\"Mean Absolute error: \" + str(mean_absolute_error(y_pred, y)))\n",
        "print(\"Mean squared error: \" + str(mean_squared_error(y_pred, y)))\n",
        "print(rf_reg.__class__.__name__ + \": \" + str(r2_score(y_pred, y)) + '\\n')\n",
        "\n",
        "#y_pred = kmn_reg.predict(X)\n",
        "#print(kmn_reg.__class__.__name__ + \":\")\n",
        "#print(\"Mean Absolute error: \" + str(mean_absolute_error(y_pred, y)))\n",
        "#print(\"Mean squared error: \" + str(mean_squared_error(y_pred, y)))\n",
        "#print(\"R-squared Test: \" + str(r2_score(y_pred, y)))\n",
        "\n",
        "y_pred = xgb_reg.predict(X)\n",
        "print(xgb_reg.__class__.__name__ + \":\")\n",
        "print(\"Mean Absolute error: \" + str(mean_absolute_error(y_pred, y)))\n",
        "print(\"Mean squared error: \" + str(mean_squared_error(y_pred, y)))\n",
        "print(\"R-squared Test: \" + str(r2_score(y_pred, y)) + '\\n')\n",
        "\n",
        "y_pred = gb_reg.predict(X)\n",
        "print(gb_reg.__class__.__name__ + \":\")\n",
        "print(\"Mean Absolute error: \" + str(mean_absolute_error(y_pred, y)))\n",
        "print(\"Mean squared error: \" + str(mean_squared_error(y_pred, y)))\n",
        "print(\"R-squared Test: \" + str(r2_score(y_pred, y)) + '\\n')\n",
        "\n",
        "y_pred = bagging_reg.predict(X)\n",
        "print(bagging_reg.__class__.__name__ + \":\")\n",
        "print(\"Mean Absolute error: \" + str(mean_absolute_error(y_pred, y)))\n",
        "print(\"Mean squared error: \" + str(mean_squared_error(y_pred, y)))\n",
        "print(\"R-squared Test: \" + str(r2_score(y_pred, y)) + '\\n')\n"
      ]
    },
    {
      "cell_type": "code",
      "execution_count": 51,
      "metadata": {
        "colab": {
          "base_uri": "https://localhost:8080/"
        },
        "id": "QYzCgYvxWufM",
        "outputId": "949bcbd5-8f0f-4402-8094-424d74d3161c"
      },
      "outputs": [
        {
          "output_type": "stream",
          "name": "stdout",
          "text": [
            "Best n_estimator for RFRegressor: 177\n",
            "Score: 0.9974515978358872\n",
            "\n",
            "Best n_estimator for GBRegressor: 179\n",
            "Score: 0.9684994658597459\n",
            "\n",
            "Best n_estimator for XGBRegressor: 179\n",
            "Score: 0.9941120473951067\n",
            "\n"
          ]
        }
      ],
      "source": [
        "# Looking for the best number of estimators for the prefered models (RandomForest, GradientBoosting, and XGB regressors)\n",
        "best_n_rf = 0\n",
        "best_n_gb = 0\n",
        "best_n_xgb = 0\n",
        "\n",
        "best_score1 = 0\n",
        "best_score2 = 0\n",
        "best_score3 = 0\n",
        "\n",
        "\n",
        "\n",
        "# *** For RandomForest ***\n",
        "for n1 in range(150, 180):\n",
        "  rf = RandomForestRegressor(n_estimators=n1, random_state=42, n_jobs=-1)\n",
        "  rf.fit(X, y)\n",
        "  pred = rf.predict(X)\n",
        "  score = r2_score(pred, y)\n",
        "\n",
        "  if score > best_score1:\n",
        "    best_score1 = score\n",
        "    best_n_rf = n1\n",
        "\n",
        "print(\"Best n_estimator for RFRegressor: \" + str(best_n_rf))\n",
        "print(\"Score: \" + str(best_score1) + \"\\n\")\n",
        "\n",
        "\n",
        "\n",
        "# *** For GradientBoosting ***\n",
        "for n2 in range(150, 180):\n",
        "  gb = GradientBoostingRegressor(n_estimators=n2)\n",
        "\n",
        "  gb.fit(X, y)\n",
        "  pred = gb.predict(X)\n",
        "  score = r2_score(pred, y)\n",
        "\n",
        "  if score > best_score2:\n",
        "    best_score2 = score\n",
        "    best_n_gb = n2\n",
        "\n",
        "print(\"Best n_estimator for GBRegressor: \" + str(best_n_gb))\n",
        "print(\"Score: \" + str(best_score2) + \"\\n\")\n",
        "\n",
        "\n",
        "\n",
        "# *** For XGB ***\n",
        "for n3 in range(150, 180):\n",
        "  xgb = XGBRegressor(n_estimators=n3, n_jobs=-1)\n",
        "\n",
        "  xgb.fit(X, y)\n",
        "  pred = xgb.predict(X)\n",
        "  score = r2_score(pred, y)\n",
        "\n",
        "  if score > best_score3:\n",
        "    best_score3 = score\n",
        "    best_n_xgb = n3\n",
        "\n",
        "print(\"Best n_estimator for XGBRegressor: \" + str(best_n_xgb))\n",
        "print(\"Score: \" + str(best_score3) + \"\\n\")\n"
      ]
    },
    {
      "cell_type": "code",
      "execution_count": 53,
      "metadata": {
        "colab": {
          "base_uri": "https://localhost:8080/"
        },
        "id": "9dO8yqk8wkJ0",
        "outputId": "ace2f5c6-7f2c-4df0-c0da-a60f40d39dba"
      },
      "outputs": [
        {
          "output_type": "stream",
          "name": "stdout",
          "text": [
            "Average Cross Validation scores:\n",
            "MAE: 0.5671469347662892\n",
            "R2: 0.9800164715122828\n"
          ]
        }
      ],
      "source": [
        "# Cross validation Training - RandomForest model\n",
        "from sklearn.model_selection import KFold\n",
        "\n",
        "\n",
        "kfold = KFold(n_splits=5, shuffle=True)\n",
        "rf_reg = RandomForestRegressor(n_estimators=best_n_rf, random_state=42, n_jobs=-1)\n",
        "rf_mae_scores = []\n",
        "rf_r2_scores = []\n",
        "\n",
        "\n",
        "for train_index, test_index in kfold.split(X):\n",
        "\n",
        "  Xtrain, Xtest = X[train_index], X[test_index]\n",
        "  ytrain, ytest = y[train_index], y[test_index]\n",
        "\n",
        "  rf_reg.fit(Xtrain, ytrain)\n",
        "  y_pred = rf_reg.predict(Xtest)\n",
        "\n",
        "  mae_scor = mean_absolute_error(y_pred, ytest)\n",
        "  r2_scor = r2_score(y_pred, ytest)\n",
        "\n",
        "  rf_mae_scores.append(mae_scor)\n",
        "  rf_r2_scores.append(r2_scor)\n",
        "\n",
        "\n",
        "avg_mae = np.mean(rf_mae_scores)\n",
        "avg_r2 = np.mean(rf_r2_scores)\n",
        "\n",
        "print('Average Cross Validation scores:')\n",
        "print(\"MAE: \" + str(avg_mae))\n",
        "print(\"R2: \" + str(avg_r2))\n"
      ]
    },
    {
      "cell_type": "code",
      "execution_count": 54,
      "metadata": {
        "colab": {
          "base_uri": "https://localhost:8080/"
        },
        "id": "MxsebsYAlOp1",
        "outputId": "49b51efc-0b57-4d33-b9a8-af89ddf526c6"
      },
      "outputs": [
        {
          "output_type": "stream",
          "name": "stdout",
          "text": [
            "Average Cross Validation scores:\n",
            "MAE: 0.641075796809699\n",
            "R2: 0.9803705111687269\n"
          ]
        }
      ],
      "source": [
        "# Cross validation testing - Voting Regressor Model\n",
        "from sklearn.ensemble import VotingRegressor\n",
        "\n",
        "\n",
        "models = [\n",
        "          ('rf', RandomForestRegressor(n_estimators=best_n_rf, random_state=42)),\n",
        "          ('xgb', XGBRegressor(n_estimators=best_n_xgb)),\n",
        "          ('gbr', GradientBoostingRegressor(n_estimators=best_n_gb))\n",
        "         ]\n",
        "\n",
        "voting_reg = VotingRegressor(estimators=models, n_jobs=-1)\n",
        "voting_mae_scores = []\n",
        "voting_r2_scores = []\n",
        "\n",
        "\n",
        "for train_index, test_index in kfold.split(X):\n",
        "\n",
        "  Xtrain, Xtest = X[train_index], X[test_index]\n",
        "  ytrain, ytest = y[train_index], y[test_index]\n",
        "\n",
        "  voting_reg.fit(Xtrain, ytrain)\n",
        "  y_pred = voting_reg.predict(Xtest)\n",
        "\n",
        "  mae_scor = mean_absolute_error(y_pred, ytest)\n",
        "  r2_scor = r2_score(y_pred, ytest)\n",
        "\n",
        "  voting_mae_scores.append(mae_scor)\n",
        "  voting_r2_scores.append(r2_scor)\n",
        "\n",
        "\n",
        "avg_mae = np.mean(voting_mae_scores)\n",
        "avg_r2 = np.mean(voting_r2_scores)\n",
        "\n",
        "print('Average Cross Validation scores:')\n",
        "print(\"MAE: \" + str(avg_mae))\n",
        "print(\"R2: \" + str(avg_r2))\n"
      ]
    },
    {
      "cell_type": "code",
      "execution_count": 55,
      "metadata": {
        "colab": {
          "base_uri": "https://localhost:8080/"
        },
        "id": "ptt4nMoppcN0",
        "outputId": "44d2873c-12f8-4da3-c8bb-45dd997659a5"
      },
      "outputs": [
        {
          "output_type": "stream",
          "name": "stderr",
          "text": [
            "<ipython-input-55-04a9042be189>:2: DtypeWarning: Columns (25,108) have mixed types. Specify dtype option on import or set low_memory=False.\n",
            "  df2 = pd.read_csv('/content/drive/My Drive/Intro to AI/Midsem Project/players_22.csv')\n"
          ]
        }
      ],
      "source": [
        "# Loading and treating the FIFA22 dataset\n",
        "df2 = pd.read_csv('/content/drive/My Drive/Intro to AI/Midsem Project/players_22.csv')\n",
        "\n",
        "# Data Selection\n",
        "data2 = df2[pred_columns]\n",
        "num = data2.select_dtypes(exclude=['object'])\n",
        "cat = data2.select_dtypes(include=['object'])\n",
        "\n",
        "# Data processing\n",
        "cat_cols = list(cat.columns.values)\n",
        "for col in cat_cols:\n",
        "  cat[col], b = pd.factorize(cat[col])\n",
        "\n",
        "num.fillna(num.mean(), inplace =True)\n",
        "\n",
        "# New dataset\n",
        "cat = cat.reset_index(drop=True)\n",
        "num = num.reset_index(drop=True)\n",
        "data2 = pd.concat([cat, num], axis=1)\n",
        "\n",
        "# Prediction variables\n",
        "X = scaler.fit_transform(data2)\n",
        "y = df2['overall']\n"
      ]
    },
    {
      "cell_type": "code",
      "execution_count": 58,
      "metadata": {
        "colab": {
          "base_uri": "https://localhost:8080/"
        },
        "id": "h5A9yEKjGCVB",
        "outputId": "403b6c08-0923-464f-cf0e-323f2b42f7c8"
      },
      "outputs": [
        {
          "output_type": "stream",
          "name": "stdout",
          "text": [
            "Accuracy Scores for the Random Forest model on the FIFA 22 dataset: \n",
            "R-squared test: 0.8444030967093235\n",
            "Mean Absolute Error: 1.3444571599061814\n"
          ]
        }
      ],
      "source": [
        "# Accuracy of the model on the FIFA22 dataset\n",
        "print(\"Accuracy Scores for the Random Forest model on the FIFA 22 dataset: \")\n",
        "y_pred = rf_reg.predict(X)\n",
        "print(\"R-squared test: \" + str(r2_score(y_pred, y)))\n",
        "print(\"Mean Absolute Error: \" + str(mean_absolute_error(y_pred, y)))\n"
      ]
    },
    {
      "cell_type": "code",
      "source": [
        "# Accuracy of the model on the FIFA22 dataset\n",
        "print(\"Accuracy Scores for the Voting Regressor model on the FIFA 22 dataset: \")\n",
        "y_pred = voting_reg.predict(X)\n",
        "print(\"R-squared test: \" + \": \" + str(r2_score(y_pred, y)))\n",
        "print(\"Mean Absolute Error: \" + \": \" + str(mean_absolute_error(y_pred, y)))\n"
      ],
      "metadata": {
        "colab": {
          "base_uri": "https://localhost:8080/"
        },
        "id": "_pOumP02algA",
        "outputId": "6249c5ca-73ea-46a6-9306-07734d48c5b3"
      },
      "execution_count": 59,
      "outputs": [
        {
          "output_type": "stream",
          "name": "stdout",
          "text": [
            "Accuracy Scores for the Voting Regressor model on the FIFA 22 dataset: \n",
            "R-squared test: : 0.8517660373850923\n",
            "Mean Absolute Error: : 1.3917321853737024\n"
          ]
        }
      ]
    },
    {
      "cell_type": "code",
      "execution_count": 62,
      "metadata": {
        "id": "0i3oT1U6LQdU"
      },
      "outputs": [],
      "source": [
        "# Saving the model & scaler in files (for later use)\n",
        "import pickle\n",
        "\n",
        "with open('/content/drive/My Drive/Intro to AI/Midsem Project/rf_reg.pkl', 'wb') as f:\n",
        "  pickle.dump(rf_reg, f)\n",
        "\n",
        "with open('/content/drive/My Drive/Intro to AI/Midsem Project/scaler.pkl', 'wb') as f:\n",
        "  pickle.dump(scaler, f)\n"
      ]
    },
    {
      "cell_type": "code",
      "execution_count": 124,
      "metadata": {
        "id": "yCfVmI8k_HF2"
      },
      "outputs": [],
      "source": []
    }
  ],
  "metadata": {
    "colab": {
      "provenance": []
    },
    "kernelspec": {
      "display_name": "Python 3",
      "name": "python3"
    },
    "language_info": {
      "name": "python"
    }
  },
  "nbformat": 4,
  "nbformat_minor": 0
}